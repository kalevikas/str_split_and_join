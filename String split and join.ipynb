{
 "cells": [
  {
   "cell_type": "code",
   "execution_count": 1,
   "id": "a27f48fc",
   "metadata": {},
   "outputs": [],
   "source": [
    "def split_and_join(line):\n",
    "    line=line.split(\" \")\n",
    "    return \"-\".join(line)"
   ]
  },
  {
   "cell_type": "code",
   "execution_count": 6,
   "id": "344423ec",
   "metadata": {},
   "outputs": [
    {
     "data": {
      "text/plain": [
       "'Vikas-Kale-Maharshtra'"
      ]
     },
     "execution_count": 6,
     "metadata": {},
     "output_type": "execute_result"
    }
   ],
   "source": [
    "split_and_join('Vikas Kale Maharshtra')"
   ]
  },
  {
   "cell_type": "code",
   "execution_count": 7,
   "id": "e0209f3c",
   "metadata": {},
   "outputs": [
    {
     "data": {
      "text/plain": [
       "'Vikas-Kale-Maharashtra,-course-python'"
      ]
     },
     "execution_count": 7,
     "metadata": {},
     "output_type": "execute_result"
    }
   ],
   "source": [
    "split_and_join('Vikas Kale Maharashtra, course python')"
   ]
  },
  {
   "cell_type": "code",
   "execution_count": null,
   "id": "4a716a3a",
   "metadata": {},
   "outputs": [],
   "source": []
  }
 ],
 "metadata": {
  "kernelspec": {
   "display_name": "Python 3",
   "language": "python",
   "name": "python3"
  },
  "language_info": {
   "codemirror_mode": {
    "name": "ipython",
    "version": 3
   },
   "file_extension": ".py",
   "mimetype": "text/x-python",
   "name": "python",
   "nbconvert_exporter": "python",
   "pygments_lexer": "ipython3",
   "version": "3.8.8"
  }
 },
 "nbformat": 4,
 "nbformat_minor": 5
}
